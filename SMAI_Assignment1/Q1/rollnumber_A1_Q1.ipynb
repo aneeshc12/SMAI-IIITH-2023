{
 "cells": [
  {
   "attachments": {},
   "cell_type": "markdown",
   "metadata": {
    "id": "NSd3vc8oPt3b"
   },
   "source": [
    "# Assignment 1\n",
    "## Question `1` (K-Nearest Neighbour)\n",
    "\n",
    "| | |\n",
    "|-|-|\n",
    "| Course | Statistical Methods in AI |\n",
    "| Release Date | `19.01.2023` |\n",
    "| Due Date | `29.01.2023` |\n",
    "\n",
    "### Instructions:\n",
    "1.   Assignment must be implemented using python notebook only (Colab , VsCode , Jupyter etc.)\n",
    "2.   You are allowed to use libraries for data preprocessing (numpy, pandas, nltk etc) and for algorithms as well (sklearn etc). You are not however allowed to directly use classifier models.\n",
    "3.   The performance of the model will hold weightage but you will also be graded largely for data preprocessing steps , explanations , feature selection for vectors etc.\n",
    "4.   Strict plagiarism checking will be done. An F will be awarded for plagiarism.\n",
    "\n",
    "### The Dataset\n",
    "The dataset is to be downloaded from the following drive link ([Link](https://drive.google.com/file/d/1u55iIrTrn41n2lv8HBjtdKLhDcy_6s7O/view?usp=sharing)).\n",
    "The dataset is a collection of *11099 tweets and has 31 columns*. The data will be in the form of a csv file which you can load in any format. The ground truth is available in the following drive link ([Link](https://drive.google.com/file/d/1--cozM5hXDwdbbDaWlB-8NqwSj0nh1Kg/view?usp=sharing)) which corresponds to whether a tweet was popular or not. Since the task involves selecting features yourself to vectorize a tweet , we suggest some data analysis of the columns you consider important.\n",
    "<br><br>\n",
    "\n",
    "### The Task\n",
    "You have to build a classifier which can predict the popularity of the tweet, i.e , if the tweet was popular or not. You are required to use **KNN** algorithm to build the classifier and cannot use any inbuilt classifier. All columns are supposed to be analyzed , filtered and preprocessed to determine its importance as a feature in the vector for every tweet (Not every column will be useful).<br>\n",
    "The Data contains the **raw text of the tweet**(in the text column) as well as other **meta data** like likes count , user followers count. Note that it might be useful to **create new columns** with useful information. For example, *number of hashtags* might be useful but is not directly present as a column.<br>\n",
    "There are 3 main sub parts:\n",
    "1. *Vectorize tweets using only meta data* - likes , user followers count , and other created data\n",
    "2. *Vectorize tweets using only it's text*. This segment will require NLP techniques to clean the text and extract a vector using a BoW model. Here is a useful link for the same - [Tf-Idf](https://towardsdatascience.com/text-vectorization-term-frequency-inverse-document-frequency-tfidf-5a3f9604da6d). Since these vectors will be very large , we recommend reducing their dimensionality (~10 - 25). Hint: [Dimentionality Reduction](https://jonathan-hui.medium.com/machine-learning-singular-value-decomposition-svd-principal-component-analysis-pca-1d45e885e491). Please note that for this also you are allowed to use libraries.\n",
    "\n",
    "3. *Combining the vectors from above two techinques to create one bigger vector*\n",
    "<br>\n",
    "\n",
    "\n",
    "Using KNN on these vectors build a classifier to predict the popularity of the tweet and report accuracies on each of the three methods as well as analysis. You can use sklearn's Nearest Neighbors and need not write KNN from scratch. (However you cannot use the classifier directly). You are expected to try the classifier for different number of neighbors and identify the optimal K value."
   ]
  },
  {
   "cell_type": "markdown",
   "metadata": {
    "id": "0LJvylX8680U"
   },
   "source": [
    "## Import necessary libraries"
   ]
  },
  {
   "cell_type": "code",
   "execution_count": 43,
   "metadata": {
    "id": "UrD1GJ6-YA5M"
   },
   "outputs": [],
   "source": [
    "import pandas as pd\n",
    "import numpy as np\n",
    "import json\n",
    "import matplotlib\n",
    "import math\n",
    "from tqdm import tqdm"
   ]
  },
  {
   "cell_type": "markdown",
   "metadata": {
    "id": "eoakVIVW7EOT"
   },
   "source": [
    "## Load and display the data"
   ]
  },
  {
   "cell_type": "code",
   "execution_count": 2,
   "metadata": {
    "id": "YRwXxW4WwEL8"
   },
   "outputs": [
    {
     "name": "stdout",
     "output_type": "stream",
     "text": [
      "[0. 0. 1. ... 0. 0. 0.]\n",
      "The columns are as follows:\n",
      "created_at, id, id_str, text, truncated, entities, metadata, source, in_reply_to_status_id, in_reply_to_status_id_str, in_reply_to_user_id, in_reply_to_user_id_str, in_reply_to_screen_name, user, geo, coordinates, place, contributors, retweeted_status, is_quote_status, retweet_count, favorite_count, favorited, retweeted, lang, possibly_sensitive, quoted_status_id, quoted_status_id_str, extended_entities, quoted_status, withheld_in_countries, \n",
      "\n",
      "Sample data:\n",
      "created_at  :  2018-07-31 13:34:40+00:00\n",
      "id  :  1024287229512953856\n",
      "id_str  :  1024287229512953856\n",
      "text  :  @hail_ee23 Thanks love its just the feeling of eyes that get me so nervous ❤️\n",
      "truncated  :  False\n",
      "entities  :  {'hashtags': [], 'symbols': [], 'user_mentions': [{'screen_name': 'hail_ee23', 'name': 'Jordan Vaughn', 'id': 927185727053553665, 'id_str': '927185727053553665', 'indices': [0, 10]}], 'urls': []}\n",
      "metadata  :  {'iso_language_code': 'en', 'result_type': 'recent'}\n",
      "source  :  <a href=\"http://twitter.com/download/iphone\" rel=\"nofollow\">Twitter for iPhone</a>\n",
      "in_reply_to_status_id  :  1.0241275270722929e+18\n",
      "in_reply_to_status_id_str  :  1.0241275270722929e+18\n",
      "in_reply_to_user_id  :  9.271857270535537e+17\n",
      "in_reply_to_user_id_str  :  9.271857270535537e+17\n",
      "in_reply_to_screen_name  :  hail_ee23\n",
      "user  :  {'id': 2407992339, 'id_str': '2407992339', 'name': 'indecent exposure', 'screen_name': 'alyssamajor9', 'location': 'Sherbrooke, Québec', 'description': 'Iifes a journey enjoy it❤️', 'url': 'https://t.co/Q7UGSdRBOO', 'entities': {'url': {'urls': [{'url': 'https://t.co/Q7UGSdRBOO', 'expanded_url': 'https://www.instagram.com/alyssa.major/', 'display_url': 'instagram.com/alyssa.major/', 'indices': [0, 23]}]}, 'description': {'urls': []}}, 'protected': False, 'followers_count': 199, 'friends_count': 203, 'listed_count': 1, 'created_at': 'Thu Mar 13 17:13:40 +0000 2014', 'favourites_count': 2136, 'utc_offset': None, 'time_zone': None, 'geo_enabled': True, 'verified': False, 'statuses_count': 3922, 'lang': 'en', 'contributors_enabled': False, 'is_translator': False, 'is_translation_enabled': False, 'profile_background_color': '000000', 'profile_background_image_url': 'http://abs.twimg.com/images/themes/theme1/bg.png', 'profile_background_image_url_https': 'https://abs.twimg.com/images/themes/theme1/bg.png', 'profile_background_tile': False, 'profile_image_url': 'http://pbs.twimg.com/profile_images/1001516696467922944/uv5yDIAQ_normal.jpg', 'profile_image_url_https': 'https://pbs.twimg.com/profile_images/1001516696467922944/uv5yDIAQ_normal.jpg', 'profile_banner_url': 'https://pbs.twimg.com/profile_banners/2407992339/1527615361', 'profile_link_color': '981CEB', 'profile_sidebar_border_color': '000000', 'profile_sidebar_fill_color': '000000', 'profile_text_color': '000000', 'profile_use_background_image': False, 'has_extended_profile': True, 'default_profile': False, 'default_profile_image': False, 'following': False, 'follow_request_sent': False, 'notifications': False, 'translator_type': 'none'}\n",
      "geo  :  None\n",
      "coordinates  :  None\n",
      "place  :  {'id': '26b41b13d49ea2bf', 'url': 'https://api.twitter.com/1.1/geo/id/26b41b13d49ea2bf.json', 'place_type': 'city', 'name': 'Sherbrooke', 'full_name': 'Sherbrooke, Québec', 'country_code': 'CA', 'country': 'Canada', 'contained_within': [], 'bounding_box': {'type': 'Polygon', 'coordinates': [[[-72.10789, 45.300919], [-71.803175, 45.300919], [-71.803175, 45.524339], [-72.10789, 45.524339]]]}, 'attributes': {}}\n",
      "contributors  :  nan\n",
      "retweeted_status  :  nan\n",
      "is_quote_status  :  False\n",
      "retweet_count  :  0\n",
      "favorite_count  :  0\n",
      "favorited  :  False\n",
      "retweeted  :  False\n",
      "lang  :  en\n",
      "possibly_sensitive  :  nan\n",
      "quoted_status_id  :  nan\n",
      "quoted_status_id_str  :  nan\n",
      "extended_entities  :  nan\n",
      "quoted_status  :  nan\n",
      "withheld_in_countries  :  nan\n",
      "\n",
      "\n",
      "\n",
      "created_at  :  2018-07-31 13:34:40+00:00\n",
      "id  :  1024287229504569344\n",
      "id_str  :  1024287229504569344\n",
      "text  :  RT @TransMediaWatch: Pink News has more on the resignation of that Labour councillor who doesn't understand the Equality Act eight years af…\n",
      "truncated  :  False\n",
      "entities  :  {'hashtags': [], 'symbols': [], 'user_mentions': [{'screen_name': 'TransMediaWatch', 'name': 'Trans Media Watch', 'id': 140509257, 'id_str': '140509257', 'indices': [3, 19]}], 'urls': []}\n",
      "metadata  :  {'iso_language_code': 'en', 'result_type': 'recent'}\n",
      "source  :  <a href=\"http://twitter.com/download/iphone\" rel=\"nofollow\">Twitter for iPhone</a>\n",
      "in_reply_to_status_id  :  nan\n",
      "in_reply_to_status_id_str  :  nan\n",
      "in_reply_to_user_id  :  nan\n",
      "in_reply_to_user_id_str  :  nan\n",
      "in_reply_to_screen_name  :  None\n",
      "user  :  {'id': 901579698223931392, 'id_str': '901579698223931392', 'name': 'Lexi L', 'screen_name': 'Archaema', 'location': 'Ohio, USA', 'description': 'I am 36, a not terribly successful author, and a fantasy/sci-fi RPG loving trans woman with a history degree - (She/Her) - Some NSFW may appear', 'url': None, 'entities': {'description': {'urls': []}}, 'protected': False, 'followers_count': 196, 'friends_count': 558, 'listed_count': 0, 'created_at': 'Sat Aug 26 22:58:45 +0000 2017', 'favourites_count': 62560, 'utc_offset': None, 'time_zone': None, 'geo_enabled': False, 'verified': False, 'statuses_count': 11546, 'lang': 'en', 'contributors_enabled': False, 'is_translator': False, 'is_translation_enabled': False, 'profile_background_color': 'F5F8FA', 'profile_background_image_url': None, 'profile_background_image_url_https': None, 'profile_background_tile': False, 'profile_image_url': 'http://pbs.twimg.com/profile_images/1016316522812334080/oUNcDQRO_normal.jpg', 'profile_image_url_https': 'https://pbs.twimg.com/profile_images/1016316522812334080/oUNcDQRO_normal.jpg', 'profile_link_color': '1DA1F2', 'profile_sidebar_border_color': 'C0DEED', 'profile_sidebar_fill_color': 'DDEEF6', 'profile_text_color': '333333', 'profile_use_background_image': True, 'has_extended_profile': True, 'default_profile': True, 'default_profile_image': False, 'following': False, 'follow_request_sent': False, 'notifications': False, 'translator_type': 'none'}\n",
      "geo  :  None\n",
      "coordinates  :  None\n",
      "place  :  None\n",
      "contributors  :  nan\n",
      "retweeted_status  :  {'created_at': 'Tue Jul 31 11:03:32 +0000 2018', 'id': 1024249194297675776, 'id_str': '1024249194297675776', 'text': \"Pink News has more on the resignation of that Labour councillor who doesn't understand the Equality Act eight years… https://t.co/qzgZryDT5B\", 'truncated': True, 'entities': {'hashtags': [], 'symbols': [], 'user_mentions': [], 'urls': [{'url': 'https://t.co/qzgZryDT5B', 'expanded_url': 'https://twitter.com/i/web/status/1024249194297675776', 'display_url': 'twitter.com/i/web/status/1…', 'indices': [117, 140]}]}, 'metadata': {'iso_language_code': 'en', 'result_type': 'recent'}, 'source': '<a href=\"http://twitter.com\" rel=\"nofollow\">Twitter Web Client</a>', 'in_reply_to_status_id': None, 'in_reply_to_status_id_str': None, 'in_reply_to_user_id': None, 'in_reply_to_user_id_str': None, 'in_reply_to_screen_name': None, 'user': {'id': 140509257, 'id_str': '140509257', 'name': 'Trans Media Watch', 'screen_name': 'TransMediaWatch', 'location': 'UK', 'description': 'Helping the media report on transgender issues with accuracy, dignity & respect. Helping trans people who are receiving media attention. We tackle the bullies!', 'url': 'http://t.co/ljQi0ck7Es', 'entities': {'url': {'urls': [{'url': 'http://t.co/ljQi0ck7Es', 'expanded_url': 'http://transmediawatch.org/', 'display_url': 'transmediawatch.org', 'indices': [0, 22]}]}, 'description': {'urls': []}}, 'protected': False, 'followers_count': 29907, 'friends_count': 1587, 'listed_count': 466, 'created_at': 'Wed May 05 17:37:41 +0000 2010', 'favourites_count': 1038, 'utc_offset': None, 'time_zone': None, 'geo_enabled': False, 'verified': False, 'statuses_count': 23218, 'lang': 'en', 'contributors_enabled': False, 'is_translator': False, 'is_translation_enabled': False, 'profile_background_color': '000000', 'profile_background_image_url': 'http://abs.twimg.com/images/themes/theme1/bg.png', 'profile_background_image_url_https': 'https://abs.twimg.com/images/themes/theme1/bg.png', 'profile_background_tile': True, 'profile_image_url': 'http://pbs.twimg.com/profile_images/1707238374/TMW_blobs_with_shadow_and_text_-_400_normal.png', 'profile_image_url_https': 'https://pbs.twimg.com/profile_images/1707238374/TMW_blobs_with_shadow_and_text_-_400_normal.png', 'profile_link_color': '22C5D6', 'profile_sidebar_border_color': '76706A', 'profile_sidebar_fill_color': 'EDEDED', 'profile_text_color': '212020', 'profile_use_background_image': True, 'has_extended_profile': False, 'default_profile': False, 'default_profile_image': False, 'following': False, 'follow_request_sent': False, 'notifications': False, 'translator_type': 'none'}, 'geo': None, 'coordinates': None, 'place': None, 'contributors': None, 'is_quote_status': False, 'retweet_count': 5, 'favorite_count': 0, 'favorited': False, 'retweeted': False, 'possibly_sensitive': False, 'lang': 'en'}\n",
      "is_quote_status  :  False\n",
      "retweet_count  :  5\n",
      "favorite_count  :  0\n",
      "favorited  :  False\n",
      "retweeted  :  False\n",
      "lang  :  en\n",
      "possibly_sensitive  :  0.0\n",
      "quoted_status_id  :  nan\n",
      "quoted_status_id_str  :  nan\n",
      "extended_entities  :  nan\n",
      "quoted_status  :  nan\n",
      "withheld_in_countries  :  nan\n"
     ]
    }
   ],
   "source": [
    "data = pd.read_json(\"tweets.json\", lines=True)\n",
    "gt = np.loadtxt(\"ground_truth.csv\")\n",
    "print(gt)\n",
    "\n",
    "print(\"The columns are as follows:\")\n",
    "for i in data.columns:\n",
    "    print(i, end=\", \")\n",
    "\n",
    "\n",
    "\n",
    "pd.options.display.max_seq_items = 4000\n",
    "\n",
    "print(\"\\n\\nSample data:\")\n",
    "\n",
    "a = 0\n",
    "for i,j in zip(data.keys(), data.values[1]):\n",
    "    print(i, \" : \", j)\n",
    "\n",
    "print(\"\\n\\n\")\n",
    "for x in range(len(data.values)):\n",
    "    if gt[x] == 1:\n",
    "        for i,j in zip(data.keys(), data.values[x]):\n",
    "            print(i, \" : \", j)\n",
    "        break\n"
   ]
  },
  {
   "cell_type": "code",
   "execution_count": null,
   "metadata": {
    "id": "WAH13731wPS5"
   },
   "outputs": [],
   "source": []
  },
  {
   "cell_type": "markdown",
   "metadata": {
    "id": "ywNXO3TpwQkV"
   },
   "source": [
    "## Exploratory Data Analysis\n",
    "*This is an ungraded section but is recommended to get a good grasp on the dataset*"
   ]
  },
  {
   "cell_type": "code",
   "execution_count": null,
   "metadata": {
    "id": "Nl8EwC77wqX4"
   },
   "outputs": [],
   "source": [
    "# your code here"
   ]
  },
  {
   "cell_type": "markdown",
   "metadata": {
    "id": "Mztyk9Kew7q1"
   },
   "source": [
    "## Part-1\n",
    "*Vectorize tweets using only meta data*"
   ]
  },
  {
   "cell_type": "code",
   "execution_count": 118,
   "metadata": {
    "id": "y-rDkUtVxQph"
   },
   "outputs": [
    {
     "name": "stdout",
     "output_type": "stream",
     "text": [
      "Metadata only feature vector for the data split: \n",
      " [[    0   215   335     3     0]\n",
      " [    1   199   203     0     0]\n",
      " [    2   196   558     5     0]\n",
      " ...\n",
      " [ 9986   905   882     0     0]\n",
      " [ 9987    42    68     0     0]\n",
      " [ 9988   275   212 49818     0]] (9989, 5)\n",
      "Metadata only feature vector for the test split: \n",
      " [[ 9989   842   847  2481     0]\n",
      " [ 9990   100   786   131     0]\n",
      " [ 9991  8977  7696 15142     0]\n",
      " ...\n",
      " [11096   135    90     0     0]\n",
      " [11097    59   320     3     0]\n",
      " [11098  1563  1697     0     0]] (1110, 5)\n"
     ]
    }
   ],
   "source": [
    "# relevant metadata columns\n",
    "# relCols = [\"id\", \"fcount\", \"frndcount\", \"lcount\", \"user favcount\", \"verified\", \"scount\", \"rt count\", \"fav count\", \"sens\"]\n",
    "relCols = [\"id\", \"fcount\",  \"frncount\", \"rt count\", \"fav count\"]\n",
    "\n",
    "# return data and test splits\n",
    "def getFeatures(data, percent=0.9):\n",
    "  \"\"\"\n",
    "  Funtion to return a matrix of dimensions (number of tweets, number of chosen features)\n",
    "  Input parameters to this funcion are to be chosen as per requirement (Example: Loaded dataframe of the dataset) \n",
    "  \"\"\"\n",
    "\n",
    "  \"\"\"\n",
    "  relevant columns:\n",
    "  follower count\n",
    "  friend count\n",
    "  listed_count\n",
    "  favourite count\n",
    "  verified\n",
    "  statuses_count\n",
    "  rt count\n",
    "  fac count\n",
    "  sensitive\n",
    "  \"\"\"\n",
    "\n",
    "  vecWidth = len(relCols)\n",
    "  vecHeight = int(len(data.values) * percent)   # for data\n",
    "\n",
    "  dataFeatureVector = np.zeros((vecHeight, vecWidth), dtype=np.int32)\n",
    "  testFeatureVector = np.zeros((len(data.values) - vecHeight, vecWidth), dtype=np.int32)\n",
    "\n",
    "  columns = list(data.columns)\n",
    "\n",
    "\n",
    "  testCount = 0\n",
    "  for i, item in enumerate(data.values):    \n",
    "    feature = np.zeros(vecWidth)\n",
    "\n",
    "    feature[0] = i                                                    # ID\n",
    "    feature[1] = item[columns.index(\"user\")][\"followers_count\"]\n",
    "    feature[2] = item[columns.index(\"user\")][\"friends_count\"]\n",
    "    feature[3] = item[columns.index(\"retweet_count\")]\n",
    "    feature[4] = item[columns.index(\"favorite_count\")]\n",
    "    # feature[5] = item[columns.index(\"user\")][\"friends_count\"]\n",
    "    # feature[6] = item[columns.index(\"user\")][\"verified\"]\n",
    "    # feature[7] = item[columns.index(\"user\")][\"statuses_count\"]\n",
    "    # feature[8] = item[columns.index(\"retweet_count\")]\n",
    "    # feature[9] = item[columns.index(\"favorite_count\")]\n",
    "    \n",
    "    if i < vecHeight:\n",
    "      dataFeatureVector[i] = feature\n",
    "    else:\n",
    "      testFeatureVector[testCount] = feature\n",
    "      testCount += 1\n",
    "\n",
    "  return dataFeatureVector, testFeatureVector\n",
    "\n",
    "featureVector, testFeatureVector = getFeatures(data)\n",
    "\n",
    "print(\"Metadata only feature vector for the data split: \\n\", featureVector, featureVector.shape)\n",
    "print(\"Metadata only feature vector for the test split: \\n\", testFeatureVector, testFeatureVector.shape)\n"
   ]
  },
  {
   "cell_type": "markdown",
   "metadata": {
    "id": "4K7Fzh5Q4wrV"
   },
   "source": [
    "Perform KNN using the vector obtained from get_features() function. Following are the steps to be followed:\n",
    "1. Normalise the vectors\n",
    "2. Split the data into training and test to estimate the performance.\n",
    "3. Fit the Nearest Neughbiurs module to the training data and obtain the predicted class by getting the nearest neighbours on the test data.\n",
    "4. Report the accuracy, chosen k-value and method used to obtain the predicted class. Hint: Plot accuracies for a range of k-values. "
   ]
  },
  {
   "cell_type": "code",
   "execution_count": 119,
   "metadata": {
    "id": "EBHGbdsi4fe-"
   },
   "outputs": [
    {
     "name": "stdout",
     "output_type": "stream",
     "text": [
      "Normalised data feature vector:\n",
      " [[0.00000000e+00 3.39048347e-06 2.28933823e-05 1.08625315e-07\n",
      "  0.00000000e+00]\n",
      " [1.00000000e+00 3.13816849e-06 1.38727064e-05 0.00000000e+00\n",
      "  0.00000000e+00]\n",
      " [2.00000000e+00 3.09085931e-06 3.81328573e-05 1.81042196e-07\n",
      "  0.00000000e+00]\n",
      " ...\n",
      " [9.98600000e+03 1.42715699e-05 6.02745167e-05 0.00000000e+00\n",
      "  0.00000000e+00]\n",
      " [9.98700000e+03 6.62327011e-07 4.64701498e-06 0.00000000e+00\n",
      "  0.00000000e+00]\n",
      " [9.98800000e+03 4.33666492e-06 1.44877522e-05 1.80383201e-03\n",
      "  0.00000000e+00]] \n",
      "\n",
      "Normalised test feature vector:\n",
      " [[9.9890000e+03 2.5647532e-04 6.1580248e-04 7.7177514e-04 0.0000000e+00]\n",
      " [9.9900000e+03 3.0460251e-05 5.7145307e-04 4.0750721e-05 0.0000000e+00]\n",
      " [9.9910000e+03 2.7344169e-03 5.5952962e-03 4.7102859e-03 0.0000000e+00]\n",
      " ...\n",
      " [1.1096000e+04 4.1121340e-05 6.5433560e-05 0.0000000e+00 0.0000000e+00]\n",
      " [1.1097000e+04 1.7971548e-05 2.3265266e-04 9.3322262e-07 0.0000000e+00]\n",
      " [1.1098000e+04 4.7609373e-04 1.2337861e-03 0.0000000e+00 0.0000000e+00]] \n",
      "\n"
     ]
    }
   ],
   "source": [
    "# Part 1 (normalising)\n",
    "\n",
    "def normaliseFeatureVector(featureVector):\n",
    "    normFeatureVector = np.zeros_like(featureVector, dtype=np.float32)\n",
    "\n",
    "    _, nCols = featureVector.shape\n",
    "\n",
    "    normFeatureVector[:, 0] = featureVector[:, 0] # ID\n",
    "    for i in range(1, nCols):\n",
    "        sum = np.sum(featureVector[:, i])\n",
    "\n",
    "        if sum != 0:\n",
    "            normFeatureVector[:, i] = featureVector[:, i] / sum\n",
    "\n",
    "        else:\n",
    "            print(\"Zero sum for column %i\" % i)\n",
    "            normFeatureVector[:, i] = featureVector[:, i]\n",
    "\n",
    "    return normFeatureVector\n",
    "\n",
    "# Part 2 (split)\n",
    "# using a 90/10 training(data)/test(eval) split\n",
    "\n",
    "dataFeatureVector, testFeatureVector = getFeatures(data, percent=0.9)\n",
    "nDataFeatureVector = normaliseFeatureVector(featureVector)\n",
    "nTestFeatureVector = normaliseFeatureVector(testFeatureVector)\n",
    "\n",
    "print(\"Normalised data feature vector:\\n\", nDataFeatureVector, \"\\n\")\n",
    "print(\"Normalised test feature vector:\\n\", nTestFeatureVector, \"\\n\")\n"
   ]
  },
  {
   "cell_type": "code",
   "execution_count": 121,
   "metadata": {},
   "outputs": [
    {
     "ename": "SyntaxError",
     "evalue": "invalid syntax (2045060831.py, line 72)",
     "output_type": "error",
     "traceback": [
      "\u001b[0;36m  Cell \u001b[0;32mIn [121], line 72\u001b[0;36m\u001b[0m\n\u001b[0;31m    print(\"K = \", k, \" | Accuracy = \", accuracy, \" | Correctly predicted positives = \", positiveAccuracy, \" | kp = \", correctPositive \" out of \", tp)\u001b[0m\n\u001b[0m                                                                                                                                      ^\u001b[0m\n\u001b[0;31mSyntaxError\u001b[0m\u001b[0;31m:\u001b[0m invalid syntax\n"
     ]
    }
   ],
   "source": [
    "# Part 3 (fitting and determining k)\n",
    "\n",
    "def calcL2Norm(a, b):\n",
    "    if len(a) != len(b):\n",
    "        print(\"Incorrect dim\")\n",
    "        exit(1)\n",
    "    \n",
    "    sum = 0\n",
    "    for x in range(1,len(a)):\n",
    "        sum += (a[x]-b[x]) * (a[x]-b[x])\n",
    "    \n",
    "    return math.sqrt(sum)\n",
    "\n",
    "\n",
    "def kNN(k, nDataFeatureVector, nTestFeatureVector):\n",
    "    correctPredictions = 0\n",
    "    correctPositive = 0\n",
    "    totalPredictions = len(nTestFeatureVector)\n",
    "    totalPositives = 0\n",
    "\n",
    "    # get the features with the k smallest costs\n",
    "    for testEntry in tqdm(nTestFeatureVector):\n",
    "        allCosts = nDataFeatureVector - testEntry\n",
    "        allCosts = np.square(allCosts)\n",
    "        allCosts = np.sum(allCosts[:, 1:], axis=1)        \n",
    "\n",
    "        sortedCosts = np.zeros((allCosts.shape[0], 2))\n",
    "        sortedCosts[:,0] = np.sqrt(allCosts)\n",
    "        sortedCosts[:,1] = np.arange(len(nDataFeatureVector))                \n",
    "\n",
    "        ind = np.argsort(sortedCosts[:,0])\n",
    "        sortedCosts = sortedCosts[ind]\n",
    "\n",
    "        closest = sortedCosts[:k]\n",
    "        # check nbd classes\n",
    "        tot = 0.0\n",
    "        predictedClass = 0\n",
    "\n",
    "        bleep = 0\n",
    "        for i in closest:\n",
    "            # print(i.shape)\n",
    "            # print(i)\n",
    "            # print(gt[int(i[1])])\n",
    "            if gt[int(i[1])] == 1.0:\n",
    "                bleep += 1\n",
    "            tot += gt[int(i[1])]\n",
    "        \n",
    "        # if bleep > 0:\n",
    "            # print(bleep, testEntry[0])\n",
    "\n",
    "        if float(tot)/k < 0.5:\n",
    "            predictedClass = 0\n",
    "        else:\n",
    "            predictedClass = 1\n",
    "\n",
    "        if gt[int(testEntry[0])] == predictedClass:\n",
    "            correctPredictions += 1\n",
    "            if predictedClass == 1:\n",
    "                correctPositive += 1\n",
    "\n",
    "        if gt[int(testEntry[0])] == 1:\n",
    "            totalPositives += 1\n",
    "    \n",
    "    accuracy = float(correctPredictions)/totalPredictions\n",
    "    positiveAccuracy = float(correctPositive)/totalPositives\n",
    "    return accuracy, positiveAccuracy, correctPositive, totalPositives\n",
    "\n",
    "# loop over all ks, calculate accuracy and percent of correctly predicted positives\n",
    "maxK = 20\n",
    "for k in range(1, maxK):\n",
    "    accuracy, positiveAccuracy, correctPositive, tp = kNN(k, nDataFeatureVector, nTestFeatureVector)\n",
    "    print(\"K = \", k, \" | Accuracy = \", accuracy, \" | Correctly predicted positives = \", positiveAccuracy, \" | kp = \", correctPositive, \" out of \", tp)\n",
    "        \n"
   ]
  },
  {
   "cell_type": "code",
   "execution_count": 48,
   "metadata": {},
   "outputs": [
    {
     "name": "stdout",
     "output_type": "stream",
     "text": [
      "0.07748445805928462\n"
     ]
    }
   ],
   "source": [
    "b = np.sum(gt)\n",
    "b\n",
    "print(b/len(gt))"
   ]
  },
  {
   "cell_type": "markdown",
   "metadata": {
    "id": "vSufXze8zmV3"
   },
   "source": [
    "## Part-2\n",
    "Vectorize tweets based on the text. More details and reference links can be checked on the Tasks list in the start of the notebook"
   ]
  },
  {
   "cell_type": "code",
   "execution_count": null,
   "metadata": {
    "id": "GBizLGhg0kQT"
   },
   "outputs": [],
   "source": [
    "def tweet_vectoriser():\n",
    "  \"\"\"\n",
    "  Funtion to return a matrix of dimensions (number of tweets, number of features extracted per tweet)\n",
    "  Following are the steps for be followed:\n",
    "    1. Remove links, tags and hashtags from each tweet.\n",
    "    2. Apply TF-IDF on the tweets to extract a vector. \n",
    "    3. Perform dimensionality reduction on the obtained vector. \n",
    "  Input parameters to this funcion are to be chosen as per requirement (Example: Array of tweets) \n",
    "  \"\"\"\n",
    "  # your code here"
   ]
  },
  {
   "cell_type": "markdown",
   "metadata": {
    "id": "3Q47SVkv9VzO"
   },
   "source": [
    "Perform KNN using the vector obtained from tweet_vectoriser() function. Following are the steps to be followed:\n",
    "\n",
    "1. Normalise the vectors\n",
    "2. Split the data into training and test to estimate the performance.\n",
    "3. Fit the Nearest Neughbiurs module to the training data and obtain the predicted class by getting the nearest neighbours on the test data.\n",
    "4. Report the accuracy, chosen k-value and method used to obtain the predicted class. Hint: Plot accuracies for a range of k-values."
   ]
  },
  {
   "cell_type": "code",
   "execution_count": null,
   "metadata": {
    "id": "7aDr7vAW-NX_"
   },
   "outputs": [],
   "source": [
    "# your code here"
   ]
  },
  {
   "cell_type": "markdown",
   "metadata": {
    "id": "Rg7hD8-O3PbO"
   },
   "source": [
    "## Part-3\n",
    "### Subpart-1"
   ]
  },
  {
   "cell_type": "markdown",
   "metadata": {
    "id": "Bp9TVeVD9lKe"
   },
   "source": [
    "Combine both the vectors obtained from the tweet_vectoriser() and get_features()"
   ]
  },
  {
   "cell_type": "code",
   "execution_count": null,
   "metadata": {
    "id": "r5ksyj7_3_xl"
   },
   "outputs": [],
   "source": [
    "# your code here"
   ]
  },
  {
   "cell_type": "markdown",
   "metadata": {
    "id": "swCD5Jp69xo5"
   },
   "source": [
    "Perform KNN using the vector obtained in the previous step. Following are the steps to be followed:\n",
    "\n",
    "1. Normalise the vectors\n",
    "2. Split the data into training and test to estimate the performance.\n",
    "3. Fit the Nearest Neughbiurs module to the training data and obtain the predicted class by getting the nearest neighbours on the test data.\n",
    "4. Report the accuracy, chosen k-value and method used to obtain the predicted class. Hint: Plot accuracies for a range of k-values."
   ]
  },
  {
   "cell_type": "code",
   "execution_count": null,
   "metadata": {
    "id": "rufknWgo4AvY"
   },
   "outputs": [],
   "source": [
    "# your code here"
   ]
  },
  {
   "cell_type": "markdown",
   "metadata": {
    "id": "1NVQLLhE3c79"
   },
   "source": [
    "### Subpart-2\n",
    "\n",
    "Explain the differences between the accuracies obtained in each part above based on the features used."
   ]
  },
  {
   "cell_type": "markdown",
   "metadata": {
    "id": "VkiTeqaE_4ic"
   },
   "source": []
  }
 ],
 "metadata": {
  "colab": {
   "provenance": []
  },
  "kernelspec": {
   "display_name": "MR",
   "language": "python",
   "name": "python3"
  },
  "language_info": {
   "codemirror_mode": {
    "name": "ipython",
    "version": 3
   },
   "file_extension": ".py",
   "mimetype": "text/x-python",
   "name": "python",
   "nbconvert_exporter": "python",
   "pygments_lexer": "ipython3",
   "version": "3.10.6"
  },
  "vscode": {
   "interpreter": {
    "hash": "2a4887ba97cd0453d407f2999ca251911114f05a0a638f9c2041832012853734"
   }
  }
 },
 "nbformat": 4,
 "nbformat_minor": 1
}
